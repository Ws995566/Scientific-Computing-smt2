{
  "nbformat": 4,
  "nbformat_minor": 0,
  "metadata": {
    "colab": {
      "provenance": [],
      "authorship_tag": "ABX9TyPtLT7XtUd7wmgkgErT4ATU",
      "include_colab_link": true
    },
    "kernelspec": {
      "name": "python3",
      "display_name": "Python 3"
    },
    "language_info": {
      "name": "python"
    }
  },
  "cells": [
    {
      "cell_type": "markdown",
      "metadata": {
        "id": "view-in-github",
        "colab_type": "text"
      },
      "source": [
        "<a href=\"https://colab.research.google.com/github/Ws995566/Scientific-Computing-smt2/blob/main/Modul_Session_1.ipynb\" target=\"_parent\"><img src=\"https://colab.research.google.com/assets/colab-badge.svg\" alt=\"Open In Colab\"/></a>"
      ]
    },
    {
      "cell_type": "code",
      "source": [
        "def grading(total):\n",
        "    if 90 <= total <= 100:\n",
        "        return \"A\"\n",
        "    elif 85 <= total < 90:\n",
        "        return \"A-\"\n",
        "    elif 80 <= total < 85:\n",
        "        return \"B+\"\n",
        "    elif 75 <= total < 80:\n",
        "        return \"B\"\n",
        "    elif 70 <= total < 75:\n",
        "        return \"C+\"\n",
        "    elif 60 <= total < 70:\n",
        "        return \"C\"\n",
        "    else:\n",
        "        return \"F\"\n"
      ],
      "metadata": {
        "id": "y7LvMrmpYBB_"
      },
      "execution_count": null,
      "outputs": []
    },
    {
      "cell_type": "code",
      "source": [
        "Username = input(\"Masukkan username anda : \")\n",
        "Password = input(\"Masukkan passwrod anda : \")\n",
        "\n",
        "if  Password == \"Admin123\":\n",
        "\n",
        "    print(f\"\\nLogin Berhasil, Selamat datang {Username}\" )\n",
        "else :\n",
        "    print(\"\\nInvalid Password. Please Re-enter your Password! \")\n",
        "    Username = input(\"Username : \")\n",
        "    Password = input(\"Passwrod : \")"
      ],
      "metadata": {
        "colab": {
          "base_uri": "https://localhost:8080/"
        },
        "id": "zNVm3c8LfWIO",
        "outputId": "20680e25-fcf9-4ca5-eda7-a44d9c5da6cf"
      },
      "execution_count": null,
      "outputs": [
        {
          "output_type": "stream",
          "name": "stdout",
          "text": [
            "Masukkan username anda : Wesley\n",
            "Masukkan passwrod anda : Admin123\n",
            "\n",
            "Login Berhasil, Selamat datang Wesley\n"
          ]
        }
      ]
    },
    {
      "cell_type": "code",
      "source": [
        "student_name = input(\"Masukkan nama siswa : \")\n",
        "uas = float(input(\"Masukkan nilai UAS : \"))\n",
        "uts = float(input(\"Masukkan nilai UTS : \"))\n",
        "asg = float(input(\"Masukkan nilai Assignment :\"))"
      ],
      "metadata": {
        "colab": {
          "base_uri": "https://localhost:8080/"
        },
        "id": "JW-tMM25fYaL",
        "outputId": "cf94b751-b91a-43ee-9fa2-c587d0a14246"
      },
      "execution_count": null,
      "outputs": [
        {
          "name": "stdout",
          "output_type": "stream",
          "text": [
            "Masukkan nama siswa : Wesleyy\n",
            "Masukkan nilai UAS : 78\n",
            "Masukkan nilai UTS : 100\n",
            "Masukkan nilai Assignment :98\n"
          ]
        }
      ]
    },
    {
      "cell_type": "code",
      "source": [
        "def calculate(uas, uts, asg):\n",
        "     return uas * 0.5 + uts * 0.3 + asg * 0.2"
      ],
      "metadata": {
        "id": "1d7BJXpDfbJN"
      },
      "execution_count": null,
      "outputs": []
    },
    {
      "cell_type": "code",
      "source": [
        "def grading(total):\n",
        "    if 90 <= total <= 100:\n",
        "        return \"A\"\n",
        "    elif 85 <= total < 90:\n",
        "        return \"A-\"\n",
        "    elif 80 <= total < 85:\n",
        "        return \"B+\"\n",
        "    elif 75 <= total < 80:\n",
        "        return \"B\"\n",
        "    elif 70 <= total < 75:\n",
        "        return \"C+\"\n",
        "    elif 60 <= total < 70:\n",
        "        return \"C\"\n",
        "    else:\n",
        "        return \"F\""
      ],
      "metadata": {
        "id": "XLJns4qHfdrG"
      },
      "execution_count": null,
      "outputs": []
    },
    {
      "cell_type": "code",
      "source": [
        "total = calculate(uas, uts, asg)\n",
        "grade = grading(total)\n",
        "\n",
        "print(f\"\\nHasil perolehan nilai {student_name}\")\n",
        "print(f\"Final Score: {total}\")\n",
        "print(f\"Grade {grade}\")"
      ],
      "metadata": {
        "colab": {
          "base_uri": "https://localhost:8080/"
        },
        "id": "lfPi6Bswf708",
        "outputId": "3f2ccfba-8bc0-4d57-86b5-5cf72c4c1724"
      },
      "execution_count": null,
      "outputs": [
        {
          "output_type": "stream",
          "name": "stdout",
          "text": [
            "\n",
            "Hasil perolehan nilai Wesleyy\n",
            "Final Score: 88.6\n",
            "Grade A-\n"
          ]
        }
      ]
    }
  ]
}