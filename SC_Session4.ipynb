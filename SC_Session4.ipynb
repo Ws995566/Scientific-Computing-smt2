{
  "nbformat": 4,
  "nbformat_minor": 0,
  "metadata": {
    "colab": {
      "provenance": [],
      "authorship_tag": "ABX9TyNUa/eGUjcKz77I9IeonxeD",
      "include_colab_link": true
    },
    "kernelspec": {
      "name": "python3",
      "display_name": "Python 3"
    },
    "language_info": {
      "name": "python"
    }
  },
  "cells": [
    {
      "cell_type": "markdown",
      "metadata": {
        "id": "view-in-github",
        "colab_type": "text"
      },
      "source": [
        "<a href=\"https://colab.research.google.com/github/Ws995566/Scientific-Computing-smt2/blob/main/SC_Session4.ipynb\" target=\"_parent\"><img src=\"https://colab.research.google.com/assets/colab-badge.svg\" alt=\"Open In Colab\"/></a>"
      ]
    },
    {
      "cell_type": "code",
      "execution_count": 1,
      "metadata": {
        "id": "ZBFEMCZsj7G9"
      },
      "outputs": [],
      "source": [
        "#syarat f(a).f(b) < 0\n",
        "\n",
        "import numpy as np\n",
        "\n",
        "def my_bisection(f,a,b,tol):\n",
        "\n",
        "  #check if a and b bound a root\n",
        "  if np.sign (f(a)) == np.sign(f(b)):\n",
        "    raise Exception('The Scalars a and b do not bound a root')\n",
        "\n",
        "  #get mid poin\n",
        "  m = (a+b)/2\n",
        "\n",
        "  if np.abs(f(m)) < tol:\n",
        "    # stopping condition, report m as root\n",
        "    return m\n",
        "  elif np.sign(f(a))==np.sign(f(m)):\n",
        "\n",
        "    return my_bisection(f,m,b,tol)\n",
        "  elif np.sign(f(b))==np.sign(f(m)):\n",
        "\n",
        "    return my_bisection(f,a,m,tol)\n"
      ]
    },
    {
      "cell_type": "code",
      "source": [
        "f = lambda x: x**2-2\n",
        "\n",
        "r1=my_bisection(f,0,2,0.1)\n",
        "print (\"r1 =\",r1)\n",
        "r01=my_bisection(f,0,2,0.01)\n",
        "print(\"r01 =\",r01)\n",
        "\n",
        "print(\"f(r1) =\",f(r1))\n",
        "print(\"f(r01) =\",f(r01))"
      ],
      "metadata": {
        "colab": {
          "base_uri": "https://localhost:8080/"
        },
        "id": "cQBDeRXuj99M",
        "outputId": "2f894276-a8c5-4831-989e-7ed943feab9f"
      },
      "execution_count": 2,
      "outputs": [
        {
          "output_type": "stream",
          "name": "stdout",
          "text": [
            "r1 = 1.4375\n",
            "r01 = 1.4140625\n",
            "f(r1) = 0.06640625\n",
            "f(r01) = -0.00042724609375\n"
          ]
        }
      ]
    },
    {
      "cell_type": "code",
      "source": [
        "import numpy as np\n",
        "\n",
        "f = lambda x: x**2-2\n",
        "f_prime = lambda x: 2*x\n",
        "newton_raphson = 1.4-(f(1.4))/(f_prime(1.4))\n",
        "\n",
        "print(\"newton_raphson =\",newton_raphson)\n",
        "print(\"sqrt(2) = \",np.sqrt(2))"
      ],
      "metadata": {
        "colab": {
          "base_uri": "https://localhost:8080/"
        },
        "id": "KbMkONRlkA47",
        "outputId": "dcd4dcdc-e0b6-4dc0-e9e6-829da2279978"
      },
      "execution_count": 3,
      "outputs": [
        {
          "output_type": "stream",
          "name": "stdout",
          "text": [
            "newton_raphson = 1.4142857142857144\n",
            "sqrt(2) =  1.4142135623730951\n"
          ]
        }
      ]
    },
    {
      "cell_type": "code",
      "source": [
        "def my_newton (f, df, x0,tol):\n",
        "\n",
        "  if abs (f(x0)) < tol:\n",
        "    return x0\n",
        "  else:\n",
        "    return my_newton(f,df,x0-f(x0)/df(x0),tol)"
      ],
      "metadata": {
        "id": "EPy1q_RXkCUb"
      },
      "execution_count": 4,
      "outputs": []
    },
    {
      "cell_type": "code",
      "source": [
        "estimate = my_newton(f,f_prime,1.5,1e-6)\n",
        "print(\"estimate =\",estimate)\n",
        "print(\"sqrt(2) =\",np.sqrt(2))"
      ],
      "metadata": {
        "colab": {
          "base_uri": "https://localhost:8080/"
        },
        "id": "W9g_R6_wkD-s",
        "outputId": "0274073b-7cc1-4a7e-e21a-3f7e1015e16c"
      },
      "execution_count": 5,
      "outputs": [
        {
          "output_type": "stream",
          "name": "stdout",
          "text": [
            "estimate = 1.4142135623746899\n",
            "sqrt(2) = 1.4142135623730951\n"
          ]
        }
      ]
    },
    {
      "cell_type": "code",
      "source": [
        "f = lambda x: np.cos(x)-x\n",
        "\n",
        "r1=my_bisection(f,0,1,0.0001)\n",
        "print (\"r1 =\",r1)\n"
      ],
      "metadata": {
        "colab": {
          "base_uri": "https://localhost:8080/"
        },
        "id": "J4_XCUpMkFQ6",
        "outputId": "b80d072e-af0e-4d92-aebd-cb2c784802c8"
      },
      "execution_count": 6,
      "outputs": [
        {
          "output_type": "stream",
          "name": "stdout",
          "text": [
            "r1 = 0.7391357421875\n"
          ]
        }
      ]
    },
    {
      "cell_type": "code",
      "source": [
        "f = lambda x: np.cos(x)-x\n",
        "\n",
        "r1=my_bisection(f,0,1,0.0001)\n",
        "print (\"r1 =\",r1)\n"
      ],
      "metadata": {
        "colab": {
          "base_uri": "https://localhost:8080/"
        },
        "id": "enpaOdoJkGSb",
        "outputId": "a20b91bb-acfe-4482-cc69-43a81882a167"
      },
      "execution_count": 7,
      "outputs": [
        {
          "output_type": "stream",
          "name": "stdout",
          "text": [
            "r1 = 0.7391357421875\n"
          ]
        }
      ]
    },
    {
      "cell_type": "code",
      "source": [
        "f = lambda x: x**3-3*x**2+2*x\n",
        "\n",
        "r1=my_bisection(f,0,1.1,2)\n",
        "print (\"r1 =\",r1)\n"
      ],
      "metadata": {
        "colab": {
          "base_uri": "https://localhost:8080/"
        },
        "id": "C_CkyKLCkHw9",
        "outputId": "08b963bd-4146-4ee8-fd3b-dbd4191a2a0c"
      },
      "execution_count": 8,
      "outputs": [
        {
          "output_type": "stream",
          "name": "stdout",
          "text": [
            "r1 = 0.55\n"
          ]
        }
      ]
    },
    {
      "cell_type": "code",
      "source": [
        "import numpy as np\n",
        "\n",
        "f = lambda x: x**3-3*x**2+2*x\n",
        "f_prime = lambda x: 3*x**2-6*x+2\n",
        "newton_raphson = 1.4-(f(1.4))/(f_prime(1.4))\n",
        "\n",
        "print(\"newton_raphson =\",newton_raphson)"
      ],
      "metadata": {
        "colab": {
          "base_uri": "https://localhost:8080/"
        },
        "id": "cx3l0G9DkJBF",
        "outputId": "e3eade59-54b3-42ac-ea97-21dc559632af"
      },
      "execution_count": 9,
      "outputs": [
        {
          "output_type": "stream",
          "name": "stdout",
          "text": [
            "newton_raphson = 0.7538461538461535\n"
          ]
        }
      ]
    },
    {
      "cell_type": "code",
      "source": [
        "estimate = my_newton(f,f_prime,1.5,0.001)\n",
        "print(\"estimate =\",estimate)"
      ],
      "metadata": {
        "colab": {
          "base_uri": "https://localhost:8080/"
        },
        "id": "vFhN11PUkKVA",
        "outputId": "cce670cd-73cf-4687-df9f-51d02a967f13"
      },
      "execution_count": 10,
      "outputs": [
        {
          "output_type": "stream",
          "name": "stdout",
          "text": [
            "estimate = 0.0\n"
          ]
        }
      ]
    }
  ]
}